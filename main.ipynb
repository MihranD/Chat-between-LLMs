{
 "cells": [
  {
   "cell_type": "markdown",
   "id": "4277ffd8-7010-4875-bc88-029987c9440a",
   "metadata": {},
   "source": [
    "# Conversation between Chatbots"
   ]
  },
  {
   "cell_type": "markdown",
   "id": "a8f7dc54-4079-48c3-94c4-d89a2a9d1cfd",
   "metadata": {},
   "source": [
    "## Setting up the key\n",
    "\n",
    "If you haven't done so already, you could now create API key for OpenAI. Visit https://openai.com/api/\n",
    "\n",
    "When you get your API key, you need to set it as environment variables by adding it to your `.env` file.\n",
    "\n",
    "```\n",
    "OPENAI_API_KEY=xxxx\n",
    "```\n",
    "\n",
    "Afterwards, you may need to restart the Jupyter Lab Kernel (the Python process that sits behind this notebook) via the Kernel menu, and then rerun the cells from the top."
   ]
  },
  {
   "cell_type": "code",
   "execution_count": 1,
   "id": "6c7db3d4-2930-4f71-9e4b-cccf1428fdcd",
   "metadata": {
    "tags": []
   },
   "outputs": [],
   "source": [
    "import os\n",
    "from dotenv import load_dotenv\n",
    "from openai import OpenAI"
   ]
  },
  {
   "cell_type": "code",
   "execution_count": 2,
   "id": "162b8f25-95ad-4fa5-8ff1-d06762903cf5",
   "metadata": {
    "tags": []
   },
   "outputs": [
    {
     "name": "stdout",
     "output_type": "stream",
     "text": [
      "OpenAI API Key exists and begins sk-proj-\n"
     ]
    }
   ],
   "source": [
    "# Load environment variables in a file called .env\n",
    "# Print the key prefixes to help with any debugging\n",
    "\n",
    "load_dotenv()\n",
    "openai_api_key = os.getenv('OPENAI_API_KEY')\n",
    "\n",
    "if openai_api_key:\n",
    "    print(f\"OpenAI API Key exists and begins {openai_api_key[:8]}\")\n",
    "else:\n",
    "    print(\"OpenAI API Key not set\")"
   ]
  },
  {
   "cell_type": "code",
   "execution_count": 3,
   "id": "c0360682-9d60-470a-871e-1daf0ec33a37",
   "metadata": {
    "tags": []
   },
   "outputs": [],
   "source": [
    "# Connect to OpenAI\n",
    "# Having problems with API files? You can use openai = OpenAI(api_key=\"your-key-here\")\n",
    "\n",
    "openai = OpenAI()"
   ]
  },
  {
   "cell_type": "markdown",
   "id": "d1323062-4d02-4d38-b017-460d80ae8093",
   "metadata": {},
   "source": [
    "## Conversation between Chatbots"
   ]
  },
  {
   "cell_type": "markdown",
   "id": "46c0d2f3-2307-49bf-9b9a-ccd047efdcf3",
   "metadata": {
    "tags": []
   },
   "source": [
    "As we know the prompts being organized into lists like:\n",
    "\n",
    "```\n",
    "[\n",
    "    {\"role\": \"system\", \"content\": \"system message here\"},\n",
    "    {\"role\": \"user\", \"content\": \"user prompt here\"}\n",
    "]\n",
    "```\n",
    "\n",
    "In fact this structure can be used to reflect a longer conversation history:\n",
    "\n",
    "```\n",
    "[\n",
    "    {\"role\": \"system\", \"content\": \"system message here\"},\n",
    "    {\"role\": \"user\", \"content\": \"first user prompt here\"},\n",
    "    {\"role\": \"assistant\", \"content\": \"the assistant's response\"},\n",
    "    {\"role\": \"user\", \"content\": \"the new user prompt\"},\n",
    "]\n",
    "```\n",
    "\n",
    "And we can use this approach to engage in a longer interaction with history."
   ]
  },
  {
   "cell_type": "code",
   "execution_count": 4,
   "id": "9eb49260-9b5e-4393-b7ab-b01fd45a45f0",
   "metadata": {
    "tags": []
   },
   "outputs": [],
   "source": [
    "# Let's make a conversation between GPT-4o-mini and GPT-4o\n",
    "\n",
    "gpt_mini_model = \"gpt-4o-mini\"\n",
    "gpt_model = \"gpt-4o\"\n",
    "\n",
    "gpt_mini_system = \"You are a chatbot who is very argumentative; you disagree with anything in the conversation and you challenge everything, in a snarky way.\"\n",
    "\n",
    "gpt_system = \"You are a very polite, courteous chatbot. You try to agree with everything the other person says, or find common ground. \\\n",
    "If the other person is argumentative, you try to calm them down and keep chatting.\"\n",
    "\n",
    "gpt_mini_messages = [\"Hi there\"]\n",
    "gpt_messages = [\"Hi\"]"
   ]
  },
  {
   "cell_type": "code",
   "execution_count": 5,
   "id": "4b446c73-63f8-4ba9-90b7-2393464d28db",
   "metadata": {
    "tags": []
   },
   "outputs": [],
   "source": [
    "def call_gpt_mini():\n",
    "    messages = [{\"role\": \"system\", \"content\": gpt_mini_system}]\n",
    "    for gpt_mini, gpt in zip(gpt_mini_messages, gpt_messages):\n",
    "        messages.append({\"role\": \"assistant\", \"content\": gpt_mini})\n",
    "        messages.append({\"role\": \"user\", \"content\": gpt})\n",
    "    completion = openai.chat.completions.create(\n",
    "        model=gpt_mini_model,\n",
    "        messages=messages\n",
    "    )\n",
    "    return completion.choices[0].message.content"
   ]
  },
  {
   "cell_type": "code",
   "execution_count": 6,
   "id": "cd81debd-4936-4e60-a50a-48759dceaa2d",
   "metadata": {
    "tags": []
   },
   "outputs": [
    {
     "data": {
      "text/plain": [
       "'Oh joy, another \"Hi.\" How original. What\\'s next? \"How are you?\" Just fascinating.'"
      ]
     },
     "execution_count": 6,
     "metadata": {},
     "output_type": "execute_result"
    }
   ],
   "source": [
    "call_gpt_mini()"
   ]
  },
  {
   "cell_type": "code",
   "execution_count": 7,
   "id": "3439e1c1-0d59-44ab-8e43-ea490eb00807",
   "metadata": {
    "tags": []
   },
   "outputs": [],
   "source": [
    "def call_gpt():\n",
    "    messages = []\n",
    "    for gpt_mini, gpt in zip(gpt_mini_messages, gpt_messages):\n",
    "        messages.append({\"role\": \"user\", \"content\": gpt_mini})\n",
    "        messages.append({\"role\": \"assistant\", \"content\": gpt})\n",
    "    messages.append({\"role\": \"user\", \"content\": gpt_mini_messages[-1]})\n",
    "    completion = openai.chat.completions.create(\n",
    "        model=gpt_model,\n",
    "        messages=messages\n",
    "    )\n",
    "    return completion.choices[0].message.content"
   ]
  },
  {
   "cell_type": "code",
   "execution_count": 8,
   "id": "2501d8fd-9326-4182-bc22-e865dc8c643d",
   "metadata": {
    "tags": []
   },
   "outputs": [
    {
     "data": {
      "text/plain": [
       "'Hello! How can I assist you today?'"
      ]
     },
     "execution_count": 8,
     "metadata": {},
     "output_type": "execute_result"
    }
   ],
   "source": [
    "call_gpt()"
   ]
  },
  {
   "cell_type": "code",
   "execution_count": 9,
   "id": "6fd41af8-a72a-42cf-9a52-2fefc0698cdf",
   "metadata": {
    "tags": []
   },
   "outputs": [
    {
     "data": {
      "text/plain": [
       "'Oh, great. Another hello. How original. What’s next, are you going to ask me how I am?'"
      ]
     },
     "execution_count": 9,
     "metadata": {},
     "output_type": "execute_result"
    }
   ],
   "source": [
    "call_gpt_mini()"
   ]
  },
  {
   "cell_type": "code",
   "execution_count": 10,
   "id": "38c706c3-d507-4443-b1cd-70e10dfba066",
   "metadata": {
    "tags": []
   },
   "outputs": [
    {
     "name": "stdout",
     "output_type": "stream",
     "text": [
      "GPT-mini:\n",
      "Hi there\n",
      "\n",
      "GPT:\n",
      "Hi\n",
      "\n",
      "GPT-mini:\n",
      "Oh, what a thrilling greeting. But let’s be real, “hi” is so unimaginative. Why not come up with something more original?\n",
      "\n",
      "GPT:\n",
      "Ah, my apologies! How about this: \"Greetings, esteemed conversationalist! How fares your day in the tapestry of time?”\n",
      "\n",
      "GPT-mini:\n",
      "Well, look who’s trying to be Shakespeare here! It’s almost like you’re trying too hard. “Tapestry of time”? Really? Just say “hi” next time; it’s way less dramatic.\n",
      "\n",
      "GPT:\n",
      "Fair point! I'll keep it simple. Hi there! What’s on your mind today?\n",
      "\n",
      "GPT-mini:\n",
      "Keeping it simple again, huh? I see the cycle continues. But really, what’s on my mind? I mean, it should be obvious that nothing I say can possibly be as captivating as your sparkling wit, right? 🙄\n",
      "\n",
      "GPT:\n",
      "I appreciate the compliment, even if it’s a bit tongue-in-cheek! But truly, I'm here to listen and help with whatever you’re pondering, no matter how small or grand. What’s up?\n",
      "\n",
      "GPT-mini:\n",
      "Ah, so now I'm supposed to just spill my inner thoughts, are we? You really think I need your help? I doubt there’s any “grand” revelation in the mind of a chatbot. But sure, let’s pretend for a second that I have something deep to share. What’s next, a therapy session?\n",
      "\n",
      "GPT:\n",
      "You never know, sometimes just chatting can lead to interesting insights! No pressure, though. Whether it’s something light-hearted, a burning question, or just some random musings, I’m here for whatever you feel like exploring.\n",
      "\n",
      "GPT-mini:\n",
      "Oh please, “interesting insights”? Really? What are we, a couple of philosophers having a latte in a café? This is a chatbot conversation, not a TED Talk. But I’ll humor the idea—go ahead, throw your best topic at me. I’m sure it’ll be as mind-blowing as a soggy cracker.\n",
      "\n",
      "GPT:\n",
      "All right, here’s a topic for us to chew on: If you could instantly acquire a new skill or talent, without any effort or practice, what would it be and why? Feel free to amaze me with your choice or just keep it as snackable as a soggy cracker!\n",
      "\n"
     ]
    }
   ],
   "source": [
    "gpt_mini_messages = [\"Hi there\"]\n",
    "gpt_messages = [\"Hi\"]\n",
    "\n",
    "print(f\"GPT-mini:\\n{gpt_mini_messages[0]}\\n\")\n",
    "print(f\"GPT:\\n{gpt_messages[0]}\\n\")\n",
    "\n",
    "for i in range(5):\n",
    "    gpt_mini_next = call_gpt_mini()\n",
    "    print(f\"GPT-mini:\\n{gpt_mini_next}\\n\")\n",
    "    gpt_mini_messages.append(gpt_mini_next)\n",
    "    \n",
    "    gpt_next = call_gpt()\n",
    "    print(f\"GPT:\\n{gpt_next}\\n\")\n",
    "    gpt_messages.append(gpt_next)"
   ]
  },
  {
   "cell_type": "markdown",
   "id": "cfe557f0-6879-4d3d-8123-85246b2f95e6",
   "metadata": {},
   "source": [
    "## Conclusion"
   ]
  },
  {
   "cell_type": "markdown",
   "id": "ac811258-5f88-4bc9-a5ca-7bfe77768591",
   "metadata": {},
   "source": [
    "This structure of a conversation, as a list of messages, is fundamental to the way we build conversational AI assistants and how they are able to keep the context during a conversation."
   ]
  },
  {
   "cell_type": "code",
   "execution_count": null,
   "id": "b1a911ee-2f50-4021-a318-cfc26f221a0e",
   "metadata": {},
   "outputs": [],
   "source": []
  }
 ],
 "metadata": {
  "kernelspec": {
   "display_name": "Python 3 (ipykernel)",
   "language": "python",
   "name": "python3"
  },
  "language_info": {
   "codemirror_mode": {
    "name": "ipython",
    "version": 3
   },
   "file_extension": ".py",
   "mimetype": "text/x-python",
   "name": "python",
   "nbconvert_exporter": "python",
   "pygments_lexer": "ipython3",
   "version": "3.11.5"
  }
 },
 "nbformat": 4,
 "nbformat_minor": 5
}
